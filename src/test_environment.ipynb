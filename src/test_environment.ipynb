{
 "cells": [
  {
   "cell_type": "code",
   "execution_count": 6,
   "metadata": {},
   "outputs": [],
   "source": [
    "using Revise\n",
    "using Libdl\n"
   ]
  },
  {
   "cell_type": "code",
   "execution_count": 7,
   "metadata": {},
   "outputs": [
    {
     "name": "stderr",
     "output_type": "stream",
     "text": [
      "Internal error: encountered unexpected error during compilation of top-level scope:\n",
      "TypeError(func=:ccall, context=\"\", expected=Symbol, got=0x00007ff90c367c80)\n",
      "ijl_type_error_rt at /Users/dsun/.julia/juliaup/julia-1.9.3+0.x64.apple.darwin14/lib/julia/libjulia-internal.1.9.dylib (unknown line)\n",
      "ijl_type_error at /Users/dsun/.julia/juliaup/julia-1.9.3+0.x64.apple.darwin14/lib/julia/libjulia-internal.1.9.dylib (unknown line)\n",
      "_ZL20interpret_symbol_argR12jl_codectx_tR16native_sym_arg_tP11_jl_value_tPKcb at /Users/dsun/.julia/juliaup/julia-1.9.3+0.x64.apple.darwin14/lib/julia/libjulia-codegen.1.9.dylib (unknown line)\n",
      "_ZL10emit_ccallR12jl_codectx_tPP11_jl_value_tm at /Users/dsun/.julia/juliaup/julia-1.9.3+0.x64.apple.darwin14/lib/julia/libjulia-codegen.1.9.dylib (unknown line)\n",
      "_ZL9emit_exprR12jl_codectx_tP11_jl_value_tl at /Users/dsun/.julia/juliaup/julia-1.9.3+0.x64.apple.darwin14/lib/julia/libjulia-codegen.1.9.dylib (unknown line)\n",
      "_ZL18emit_ssaval_assignR12jl_codectx_tlP11_jl_value_t at /Users/dsun/.julia/juliaup/julia-1.9.3+0.x64.apple.darwin14/lib/julia/libjulia-codegen.1.9.dylib (unknown line)\n",
      "_ZL13emit_functionRN4llvm3orc16ThreadSafeModuleEP21_jl_method_instance_tP15_jl_code_info_tP11_jl_value_tR20_jl_codegen_params_t at /Users/dsun/.julia/juliaup/julia-1.9.3+0.x64.apple.darwin14/lib/julia/libjulia-codegen.1.9.dylib (unknown line)\n",
      "_Z12jl_emit_codeRN4llvm3orc16ThreadSafeModuleEP21_jl_method_instance_tP15_jl_code_info_tP11_jl_value_tR20_jl_codegen_params_t at /Users/dsun/.julia/juliaup/julia-1.9.3+0.x64.apple.darwin14/lib/julia/libjulia-codegen.1.9.dylib (unknown line)\n",
      "_Z16jl_emit_codeinstRN4llvm3orc16ThreadSafeModuleEP19_jl_code_instance_tP15_jl_code_info_tR20_jl_codegen_params_t at /Users/dsun/.julia/juliaup/julia-1.9.3+0.x64.apple.darwin14/lib/julia/libjulia-codegen.1.9.dylib (unknown line)\n",
      "_ZL20_jl_compile_codeinstP19_jl_code_instance_tP15_jl_code_info_tmN4llvm3orc17ThreadSafeContextE at /Users/dsun/.julia/juliaup/julia-1.9.3+0.x64.apple.darwin14/lib/julia/libjulia-codegen.1.9.dylib (unknown line)\n",
      "jl_generate_fptr_impl at /Users/dsun/.julia/juliaup/julia-1.9.3+0.x64.apple.darwin14/lib/julia/libjulia-codegen.1.9.dylib (unknown line)\n",
      "jl_compile_method_internal at /Users/dsun/.julia/juliaup/julia-1.9.3+0.x64.apple.darwin14/lib/julia/libjulia-internal.1.9.dylib (unknown line)\n",
      "ijl_invoke at /Users/dsun/.julia/juliaup/julia-1.9.3+0.x64.apple.darwin14/lib/julia/libjulia-internal.1.9.dylib (unknown line)\n",
      "jl_toplevel_eval_flex at /Users/dsun/.julia/juliaup/julia-1.9.3+0.x64.apple.darwin14/lib/julia/libjulia-internal.1.9.dylib (unknown line)\n",
      "jl_toplevel_eval_flex at /Users/dsun/.julia/juliaup/julia-1.9.3+0.x64.apple.darwin14/lib/julia/libjulia-internal.1.9.dylib (unknown line)\n",
      "ijl_toplevel_eval_in at /Users/dsun/.julia/juliaup/julia-1.9.3+0.x64.apple.darwin14/lib/julia/libjulia-internal.1.9.dylib (unknown line)\n",
      "eval at ./boot.jl:370 [inlined]\n",
      "include_string at ./loading.jl:1903\n",
      "softscope_include_string at /Users/dsun/.julia/packages/SoftGlobalScope/u4UzH/src/SoftGlobalScope.jl:65\n",
      "ijl_apply_generic at /Users/dsun/.julia/juliaup/julia-1.9.3+0.x64.apple.darwin14/lib/julia/libjulia-internal.1.9.dylib (unknown line)\n",
      "execute_request at /Users/dsun/.julia/packages/IJulia/Vo51o/src/execute_request.jl:67\n",
      "unknown function (ip: 0x1139bdf46)\n",
      "ijl_apply_generic at /Users/dsun/.julia/juliaup/julia-1.9.3+0.x64.apple.darwin14/lib/julia/libjulia-internal.1.9.dylib (unknown line)\n",
      "jl_f__call_latest at /Users/dsun/.julia/juliaup/julia-1.9.3+0.x64.apple.darwin14/lib/julia/libjulia-internal.1.9.dylib (unknown line)\n",
      "#invokelatest#2 at ./essentials.jl:819 [inlined]\n",
      "invokelatest at ./essentials.jl:816 [inlined]\n",
      "eventloop at /Users/dsun/.julia/packages/IJulia/Vo51o/src/eventloop.jl:8\n",
      "#15 at ./task.jl:514\n",
      "unknown function (ip: 0x1139b79ef)\n",
      "ijl_apply_generic at /Users/dsun/.julia/juliaup/julia-1.9.3+0.x64.apple.darwin14/lib/julia/libjulia-internal.1.9.dylib (unknown line)\n",
      "start_task at /Users/dsun/.julia/juliaup/julia-1.9.3+0.x64.apple.darwin14/lib/julia/libjulia-internal.1.9.dylib (unknown line)\n",
      "Internal error: encountered unexpected error during compilation of top-level scope:\n",
      "TypeError(func=:ccall, context=\"\", expected=Symbol, got=0x00007ff90c367c80)\n",
      "ijl_type_error_rt at /Users/dsun/.julia/juliaup/julia-1.9.3+0.x64.apple.darwin14/lib/julia/libjulia-internal.1.9.dylib (unknown line)\n",
      "ijl_type_error at /Users/dsun/.julia/juliaup/julia-1.9.3+0.x64.apple.darwin14/lib/julia/libjulia-internal.1.9.dylib (unknown line)\n",
      "_ZL20interpret_symbol_argR12jl_codectx_tR16native_sym_arg_tP11_jl_value_tPKcb at /Users/dsun/.julia/juliaup/julia-1.9.3+0.x64.apple.darwin14/lib/julia/libjulia-codegen.1.9.dylib (unknown line)\n",
      "_ZL10emit_ccallR12jl_codectx_tPP11_jl_value_tm at /Users/dsun/.julia/juliaup/julia-1.9.3+0.x64.apple.darwin14/lib/julia/libjulia-codegen.1.9.dylib (unknown line)\n",
      "_ZL9emit_exprR12jl_codectx_tP11_jl_value_tl at /Users/dsun/.julia/juliaup/julia-1.9.3+0.x64.apple.darwin14/lib/julia/libjulia-codegen.1.9.dylib (unknown line)\n",
      "_ZL18emit_ssaval_assignR12jl_codectx_tlP11_jl_value_t at /Users/dsun/.julia/juliaup/julia-1.9.3+0.x64.apple.darwin14/lib/julia/libjulia-codegen.1.9.dylib (unknown line)\n",
      "_ZL13emit_functionRN4llvm3orc16ThreadSafeModuleEP21_jl_method_instance_tP15_jl_code_info_tP11_jl_value_tR20_jl_codegen_params_t at /Users/dsun/.julia/juliaup/julia-1.9.3+0.x64.apple.darwin14/lib/julia/libjulia-codegen.1.9.dylib (unknown line)\n",
      "_Z12jl_emit_codeRN4llvm3orc16ThreadSafeModuleEP21_jl_method_instance_tP15_jl_code_info_tP11_jl_value_tR20_jl_codegen_params_t at /Users/dsun/.julia/juliaup/julia-1.9.3+0.x64.apple.darwin14/lib/julia/libjulia-codegen.1.9.dylib (unknown line)\n",
      "_Z16jl_emit_codeinstRN4llvm3orc16ThreadSafeModuleEP19_jl_code_instance_tP15_jl_code_info_tR20_jl_codegen_params_t at /Users/dsun/.julia/juliaup/julia-1.9.3+0.x64.apple.darwin14/lib/julia/libjulia-codegen.1.9.dylib (unknown line)\n",
      "_ZL20_jl_compile_codeinstP19_jl_code_instance_tP15_jl_code_info_tmN4llvm3orc17ThreadSafeContextE at /Users/dsun/.julia/juliaup/julia-1.9.3+0.x64.apple.darwin14/lib/julia/libjulia-codegen.1.9.dylib (unknown line)\n",
      "jl_generate_fptr_for_unspecialized_impl at /Users/dsun/.julia/juliaup/julia-1.9.3+0.x64.apple.darwin14/lib/julia/libjulia-codegen.1.9.dylib (unknown line)\n",
      "jl_compile_method_internal at /Users/dsun/.julia/juliaup/julia-1.9.3+0.x64.apple.darwin14/lib/julia/libjulia-internal.1.9.dylib (unknown line)\n",
      "ijl_invoke at /Users/dsun/.julia/juliaup/julia-1.9.3+0.x64.apple.darwin14/lib/julia/libjulia-internal.1.9.dylib (unknown line)\n",
      "jl_toplevel_eval_flex at /Users/dsun/.julia/juliaup/julia-1.9.3+0.x64.apple.darwin14/lib/julia/libjulia-internal.1.9.dylib (unknown line)\n",
      "jl_toplevel_eval_flex at /Users/dsun/.julia/juliaup/julia-1.9.3+0.x64.apple.darwin14/lib/julia/libjulia-internal.1.9.dylib (unknown line)\n",
      "ijl_toplevel_eval_in at /Users/dsun/.julia/juliaup/julia-1.9.3+0.x64.apple.darwin14/lib/julia/libjulia-internal.1.9.dylib (unknown line)\n",
      "eval at ./boot.jl:370 [inlined]\n",
      "include_string at ./loading.jl:1903\n",
      "softscope_include_string at /Users/dsun/.julia/packages/SoftGlobalScope/u4UzH/src/SoftGlobalScope.jl:65\n",
      "ijl_apply_generic at /Users/dsun/.julia/juliaup/julia-1.9.3+0.x64.apple.darwin14/lib/julia/libjulia-internal.1.9.dylib (unknown line)\n",
      "execute_request at /Users/dsun/.julia/packages/IJulia/Vo51o/src/execute_request.jl:67\n",
      "unknown function (ip: 0x1139bdf46)\n",
      "ijl_apply_generic at /Users/dsun/.julia/juliaup/julia-1.9.3+0.x64.apple.darwin14/lib/julia/libjulia-internal.1.9.dylib (unknown line)\n",
      "jl_f__call_latest at /Users/dsun/.julia/juliaup/julia-1.9.3+0.x64.apple.darwin14/lib/julia/libjulia-internal.1.9.dylib (unknown line)\n",
      "#invokelatest#2 at ./essentials.jl:819 [inlined]\n",
      "invokelatest at ./essentials.jl:816 [inlined]\n",
      "eventloop at /Users/dsun/.julia/packages/IJulia/Vo51o/src/eventloop.jl:8\n",
      "#15 at ./task.jl:514\n",
      "unknown function (ip: 0x1139b79ef)\n",
      "ijl_apply_generic at /Users/dsun/.julia/juliaup/julia-1.9.3+0.x64.apple.darwin14/lib/julia/libjulia-internal.1.9.dylib (unknown line)\n",
      "start_task at /Users/dsun/.julia/juliaup/julia-1.9.3+0.x64.apple.darwin14/lib/julia/libjulia-internal.1.9.dylib (unknown line)\n"
     ]
    },
    {
     "ename": "LoadError",
     "evalue": "`ccall` requires the compiler",
     "output_type": "error",
     "traceback": [
      "`ccall` requires the compiler",
      "",
      "Stacktrace:",
      " [1] Toplevel MethodInstance thunk",
      "   @ Main In[7]:5"
     ]
    }
   ],
   "source": [
    "libpath = \"./simplemodule.so\"\n",
    "const lib = Libdl.dlopen(libpath)\n",
    "\n",
    "h = Int32[3]\n",
    "ccall((:foo, lib), Int32, (Ptr{Int32},), h)\n",
    "# ccall((:__simplemodule_PROG_foo, \"./src/simplemodule.so\"), Int32, (Ptr{Int32},), h)\n",
    "\n",
    "# ccall((:__tglf, \"./src/Fortran/tglf.so\"), Int32, (Ptr{Int32},), h)"
   ]
  },
  {
   "cell_type": "code",
   "execution_count": null,
   "metadata": {},
   "outputs": [],
   "source": []
  }
 ],
 "metadata": {
  "kernelspec": {
   "display_name": "Julia 1.9.3",
   "language": "julia",
   "name": "julia-1.9"
  },
  "language_info": {
   "file_extension": ".jl",
   "mimetype": "application/julia",
   "name": "julia",
   "version": "1.9.3"
  },
  "orig_nbformat": 4
 },
 "nbformat": 4,
 "nbformat_minor": 2
}
